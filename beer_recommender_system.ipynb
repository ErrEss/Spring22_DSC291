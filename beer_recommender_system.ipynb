{
 "cells": [
  {
   "cell_type": "code",
   "execution_count": 1,
   "metadata": {},
   "outputs": [],
   "source": [
    "import gzip\n",
    "import json\n",
    "import random\n",
    "import numpy as np\n",
    "import pandas as pd\n",
    "from sklearn.preprocessing import LabelEncoder\n",
    "from keras.models import Model\n",
    "from keras.layers import Input, Dense, Embedding, concatenate, Flatten, Activation, Add, Dropout, Multiply\n",
    "from tensorflow.keras.optimizers import Adam\n",
    "from keras.callbacks import EarlyStopping\n",
    "from sklearn.metrics import mean_squared_error, mean_absolute_error\n",
    "from math import sqrt\n"
   ]
  },
  {
   "cell_type": "markdown",
   "metadata": {},
   "source": [
    "### Load Dataset"
   ]
  },
  {
   "cell_type": "code",
   "execution_count": 2,
   "metadata": {},
   "outputs": [],
   "source": [
    "# definition to parse a path consisting .gz file\n",
    "def parse(path):\n",
    "    g = gzip.open(path, 'r')\n",
    "    for l in g:\n",
    "        yield eval(l)"
   ]
  },
  {
   "cell_type": "code",
   "execution_count": 3,
   "metadata": {},
   "outputs": [],
   "source": [
    "# load the dataset\n",
    "data_dir = ''\n",
    "dataset = list(parse(data_dir + 'beeradvocate.json.gz'))"
   ]
  },
  {
   "cell_type": "code",
   "execution_count": 4,
   "metadata": {},
   "outputs": [
    {
     "name": "stdout",
     "output_type": "stream",
     "text": [
      "{'beer/name': 'Sausa Weizen', 'beer/beerId': '47986', 'beer/brewerId': '10325', 'beer/ABV': '5.00', 'beer/style': 'Hefeweizen', 'review/appearance': '2.5', 'review/aroma': '2', 'review/palate': '1.5', 'review/taste': '1.5', 'review/overall': '1.5', 'review/time': '1234817823', 'review/profileName': 'stcules', 'review/text': 'A lot of foam. But a lot.\\tIn the smell some banana, and then lactic and tart. Not a good start.\\tQuite dark orange in color, with a lively carbonation (now visible, under the foam).\\tAgain tending to lactic sourness.\\tSame for the taste. With some yeast and banana.'}\n",
      "\n",
      "Length of dataset: 1586615\n",
      "\n"
     ]
    }
   ],
   "source": [
    "# view the dataset\n",
    "print('%s\\n' % dataset[0])\n",
    "print('Length of dataset: %s\\n' % len(dataset))"
   ]
  },
  {
   "cell_type": "markdown",
   "metadata": {},
   "source": [
    "### Pre-process Dataset"
   ]
  },
  {
   "cell_type": "code",
   "execution_count": 5,
   "metadata": {},
   "outputs": [],
   "source": [
    "# pre-process the data to get rid of empty 'beer/brewerId'\n",
    "featured_dataset = []\n",
    "for data in dataset:\n",
    "    if 'beer/brewerId' not in data.keys():\n",
    "        continue\n",
    "    else:\n",
    "        featured_dataset.append([data['review/profileName'], data['beer/name'], data['review/overall']])"
   ]
  },
  {
   "cell_type": "code",
   "execution_count": 6,
   "metadata": {},
   "outputs": [
    {
     "name": "stdout",
     "output_type": "stream",
     "text": [
      "              userID                          beerName  review\n",
      "200362                             2° Below Winter Ale     2.5\n",
      "1128554                                    Miller Lite     4.0\n",
      "741908                           Steelhead Extra Stout     4.5\n",
      "974101                                  Leffe Radieuse     3.5\n",
      "915743                              Red Duck Amber Ale     3.0\n",
      "...              ...                               ...     ...\n",
      "731594   zymurgy4all           Murphy's Irish Red Beer     3.5\n",
      "975579   zymurgy4all                      Leffe Blonde     3.0\n",
      "1074665  zymurgy4all  Crazy Ed's Cave Creek Chili Beer     1.0\n",
      "13336    zymurgy4all                Benchwarmer Porter     3.0\n",
      "1348028  zymurgy4all                    India Pale Ale     4.5\n",
      "\n",
      "[1415715 rows x 3 columns]\n",
      "\n"
     ]
    }
   ],
   "source": [
    "# pre-process the data to get rid of beers <10 and users <10 and sort the data by userID\n",
    "ratings = pd.DataFrame(featured_dataset, columns=['userID','beerName','review'])\n",
    "ratings = ratings.astype({'userID': 'string',  'review': 'float'})\n",
    "\n",
    "def preprocessing(data, n):\n",
    "    min_id = data['userID'].value_counts() >= n\n",
    "    min_id = min_id[min_id].index.to_list()\n",
    "    data = data[data['userID'].isin(min_id)]\n",
    "\n",
    "    min_beer = data['beerName'].value_counts() >= n\n",
    "    min_beer = min_beer[min_beer].index.to_list()\n",
    "    data = data[data['beerName'].isin(min_beer)]\n",
    "\n",
    "    return data\n",
    "\n",
    "ratings = preprocessing(ratings,10) \n",
    "sorted_ratings = ratings.sort_values('userID')\n",
    "print('%s\\n' % sorted_ratings)"
   ]
  },
  {
   "cell_type": "code",
   "execution_count": 7,
   "metadata": {},
   "outputs": [
    {
     "name": "stdout",
     "output_type": "stream",
     "text": [
      "              userID                          beerName  review\n",
      "224266      0110x011        15th Anniversary Wood Aged     3.5\n",
      "662379      0110x011                      Chez Monieux     4.5\n",
      "57926       0110x011                Trade Winds Tripel     4.0\n",
      "1325182     0110x011    Wachusett IPA (India Pale Ale)     3.5\n",
      "931834      0110x011                Bell's Hopslam Ale     4.5\n",
      "...              ...                               ...     ...\n",
      "731594   zymurgy4all           Murphy's Irish Red Beer     3.5\n",
      "975579   zymurgy4all                      Leffe Blonde     3.0\n",
      "1074665  zymurgy4all  Crazy Ed's Cave Creek Chili Beer     1.0\n",
      "13336    zymurgy4all                Benchwarmer Porter     3.0\n",
      "1348028  zymurgy4all                    India Pale Ale     4.5\n",
      "\n",
      "[1415396 rows x 3 columns]\n",
      "\n"
     ]
    }
   ],
   "source": [
    "# prepare cleaned data by dropping empty userId(s)\n",
    "sorted_ratings['userID'].replace('', 'dropthis', inplace = True)\n",
    "cleaned_data = sorted_ratings[sorted_ratings['userID'].str.contains('dropthis') == False]\n",
    "print('%s\\n' % cleaned_data)"
   ]
  },
  {
   "cell_type": "markdown",
   "metadata": {},
   "source": [
    "### Checkpoint - Dump the Cleaned Dataset"
   ]
  },
  {
   "cell_type": "code",
   "execution_count": 8,
   "metadata": {},
   "outputs": [],
   "source": [
    "# checkpoint\n",
    "cleaned_data.to_pickle('cleaned_data.infer')"
   ]
  },
  {
   "cell_type": "code",
   "execution_count": 9,
   "metadata": {},
   "outputs": [
    {
     "name": "stdout",
     "output_type": "stream",
     "text": [
      "              userID                          beerName  review\n",
      "224266      0110x011        15th Anniversary Wood Aged     3.5\n",
      "662379      0110x011                      Chez Monieux     4.5\n",
      "57926       0110x011                Trade Winds Tripel     4.0\n",
      "1325182     0110x011    Wachusett IPA (India Pale Ale)     3.5\n",
      "931834      0110x011                Bell's Hopslam Ale     4.5\n",
      "...              ...                               ...     ...\n",
      "731594   zymurgy4all           Murphy's Irish Red Beer     3.5\n",
      "975579   zymurgy4all                      Leffe Blonde     3.0\n",
      "1074665  zymurgy4all  Crazy Ed's Cave Creek Chili Beer     1.0\n",
      "13336    zymurgy4all                Benchwarmer Porter     3.0\n",
      "1348028  zymurgy4all                    India Pale Ale     4.5\n",
      "\n",
      "[1415396 rows x 3 columns]\n",
      "\n",
      "0.7066823977837944\n",
      "\n"
     ]
    }
   ],
   "source": [
    "# loading in data\n",
    "cleaned_data = pd.read_pickle('cleaned_data.infer', compression = 'infer')\n",
    "print('%s\\n' % cleaned_data)\n",
    "print('%s\\n' % np.std(cleaned_data.review))"
   ]
  },
  {
   "cell_type": "markdown",
   "metadata": {},
   "source": [
    "### Prepare Dataset for Training"
   ]
  },
  {
   "cell_type": "code",
   "execution_count": 10,
   "metadata": {},
   "outputs": [],
   "source": [
    "# encode user and item ids\n",
    "user_encoder = LabelEncoder()\n",
    "beer_encoder = LabelEncoder()\n",
    "\n",
    "user_ids = user_encoder.fit_transform(cleaned_data.userID)\n",
    "beer_ids = beer_encoder.fit_transform(cleaned_data.beerName)"
   ]
  },
  {
   "cell_type": "code",
   "execution_count": 11,
   "metadata": {},
   "outputs": [],
   "source": [
    "# train - validation split\n",
    "num_train = int(len(user_ids) * 0.8)\n",
    "train_user_ids = user_ids[:num_train]\n",
    "train_beer_ids = beer_ids[:num_train]\n",
    "train_ratings = cleaned_data.review.values[:num_train]\n",
    "val_user_ids = user_ids[num_train:]\n",
    "val_beer_ids = beer_ids[num_train:]\n",
    "val_ratings = cleaned_data.review.values[num_train:]"
   ]
  },
  {
   "cell_type": "code",
   "execution_count": 12,
   "metadata": {},
   "outputs": [
    {
     "name": "stdout",
     "output_type": "stream",
     "text": [
      "              userID                          beerName  review\n",
      "224266      0110x011        15th Anniversary Wood Aged     0.7\n",
      "662379      0110x011                      Chez Monieux     0.9\n",
      "57926       0110x011                Trade Winds Tripel     0.8\n",
      "1325182     0110x011    Wachusett IPA (India Pale Ale)     0.7\n",
      "931834      0110x011                Bell's Hopslam Ale     0.9\n",
      "...              ...                               ...     ...\n",
      "731594   zymurgy4all           Murphy's Irish Red Beer     0.7\n",
      "975579   zymurgy4all                      Leffe Blonde     0.6\n",
      "1074665  zymurgy4all  Crazy Ed's Cave Creek Chili Beer     0.2\n",
      "13336    zymurgy4all                Benchwarmer Porter     0.6\n",
      "1348028  zymurgy4all                    India Pale Ale     0.9\n",
      "\n",
      "[1415396 rows x 3 columns]\n",
      "\n"
     ]
    }
   ],
   "source": [
    "# compute the number of users and items\n",
    "num_users = user_ids.max() + 1\n",
    "num_beers = beer_ids.max() + 1\n",
    "\n",
    "# ratings normalization\n",
    "train_ratings /= 5\n",
    "val_ratings /= 5\n",
    "\n",
    "print('%s\\n' % cleaned_data)"
   ]
  },
  {
   "cell_type": "markdown",
   "metadata": {},
   "source": [
    "### Perform Training"
   ]
  },
  {
   "cell_type": "code",
   "execution_count": 13,
   "metadata": {},
   "outputs": [],
   "source": [
    "# define the neural collaborative filtering model\n",
    "def define_ncf_model():\n",
    "    user_input_layer = Input((1,))\n",
    "    user_hidden_layer = Embedding(input_dim = num_users, output_dim = 64)(user_input_layer)\n",
    "    user_hidden_layer = Flatten()(user_hidden_layer)\n",
    "    \n",
    "    item_input_layer = Input((1,))\n",
    "    item_hidden_layer = Embedding(input_dim = num_beers, output_dim = 64)(item_input_layer)\n",
    "    item_hidden_layer = Flatten()(item_hidden_layer)\n",
    "\n",
    "    mf_output = Multiply()([user_hidden_layer, item_hidden_layer]) # perform element-wise multiplication\n",
    "    \n",
    "    hidden_layer = concatenate([user_hidden_layer, item_hidden_layer])\n",
    "    hidden_layer = Dense(128, activation='relu')(hidden_layer)\n",
    "    hidden_layer = Dropout(0.2)(hidden_layer)\n",
    "    mlp_output = Dense(64, activation='relu')(hidden_layer)    \n",
    "\n",
    "    \n",
    "    output_layer = concatenate([mf_output, mlp_output])\n",
    "    output_layer = Dense(1, activation='sigmoid')(output_layer)\n",
    "    \n",
    "    model = Model(inputs = [user_input_layer, item_input_layer], outputs = output_layer)\n",
    "    model.compile(loss='mse', optimizer='adam')\n",
    "    return model"
   ]
  },
  {
   "cell_type": "code",
   "execution_count": 14,
   "metadata": {},
   "outputs": [
    {
     "name": "stdout",
     "output_type": "stream",
     "text": [
      "Metal device set to: Apple M1\n",
      "\n",
      "systemMemory: 16.00 GB\n",
      "maxCacheSize: 5.33 GB\n",
      "\n"
     ]
    },
    {
     "name": "stderr",
     "output_type": "stream",
     "text": [
      "2022-06-09 08:54:41.559399: I tensorflow/core/common_runtime/pluggable_device/pluggable_device_factory.cc:305] Could not identify NUMA node of platform GPU ID 0, defaulting to 0. Your kernel may not have been built with NUMA support.\n",
      "2022-06-09 08:54:41.563599: I tensorflow/core/common_runtime/pluggable_device/pluggable_device_factory.cc:271] Created TensorFlow device (/job:localhost/replica:0/task:0/device:GPU:0 with 0 MB memory) -> physical PluggableDevice (device: 0, name: METAL, pci bus id: <undefined>)\n"
     ]
    },
    {
     "name": "stdout",
     "output_type": "stream",
     "text": [
      "Model: \"model\"\n",
      "__________________________________________________________________________________________________\n",
      " Layer (type)                   Output Shape         Param #     Connected to                     \n",
      "==================================================================================================\n",
      " input_1 (InputLayer)           [(None, 1)]          0           []                               \n",
      "                                                                                                  \n",
      " input_2 (InputLayer)           [(None, 1)]          0           []                               \n",
      "                                                                                                  \n",
      " embedding (Embedding)          (None, 1, 64)        685248      ['input_1[0][0]']                \n",
      "                                                                                                  \n",
      " embedding_1 (Embedding)        (None, 1, 64)        867776      ['input_2[0][0]']                \n",
      "                                                                                                  \n",
      " flatten (Flatten)              (None, 64)           0           ['embedding[0][0]']              \n",
      "                                                                                                  \n",
      " flatten_1 (Flatten)            (None, 64)           0           ['embedding_1[0][0]']            \n",
      "                                                                                                  \n",
      " concatenate (Concatenate)      (None, 128)          0           ['flatten[0][0]',                \n",
      "                                                                  'flatten_1[0][0]']              \n",
      "                                                                                                  \n",
      " dense (Dense)                  (None, 128)          16512       ['concatenate[0][0]']            \n",
      "                                                                                                  \n",
      " dropout (Dropout)              (None, 128)          0           ['dense[0][0]']                  \n",
      "                                                                                                  \n",
      " multiply (Multiply)            (None, 64)           0           ['flatten[0][0]',                \n",
      "                                                                  'flatten_1[0][0]']              \n",
      "                                                                                                  \n",
      " dense_1 (Dense)                (None, 64)           8256        ['dropout[0][0]']                \n",
      "                                                                                                  \n",
      " concatenate_1 (Concatenate)    (None, 128)          0           ['multiply[0][0]',               \n",
      "                                                                  'dense_1[0][0]']                \n",
      "                                                                                                  \n",
      " dense_2 (Dense)                (None, 1)            129         ['concatenate_1[0][0]']          \n",
      "                                                                                                  \n",
      "==================================================================================================\n",
      "Total params: 1,577,921\n",
      "Trainable params: 1,577,921\n",
      "Non-trainable params: 0\n",
      "__________________________________________________________________________________________________\n"
     ]
    }
   ],
   "source": [
    "# instantiate view the defined model\n",
    "model = define_ncf_model()\n",
    "model.summary()"
   ]
  },
  {
   "cell_type": "code",
   "execution_count": 15,
   "metadata": {},
   "outputs": [
    {
     "name": "stdout",
     "output_type": "stream",
     "text": [
      "Epoch 1/50\n"
     ]
    },
    {
     "name": "stderr",
     "output_type": "stream",
     "text": [
      "2022-06-09 08:54:42.278203: W tensorflow/core/platform/profile_utils/cpu_utils.cc:128] Failed to get CPU frequency: 0 Hz\n",
      "2022-06-09 08:54:42.773221: I tensorflow/core/grappler/optimizers/custom_graph_optimizer_registry.cc:113] Plugin optimizer for device_type GPU is enabled.\n"
     ]
    },
    {
     "name": "stdout",
     "output_type": "stream",
     "text": [
      "8847/8847 [==============================] - ETA: 0s - loss: 0.0148"
     ]
    },
    {
     "name": "stderr",
     "output_type": "stream",
     "text": [
      "2022-06-09 08:57:07.371763: I tensorflow/core/grappler/optimizers/custom_graph_optimizer_registry.cc:113] Plugin optimizer for device_type GPU is enabled.\n"
     ]
    },
    {
     "name": "stdout",
     "output_type": "stream",
     "text": [
      "8847/8847 [==============================] - 151s 17ms/step - loss: 0.0148 - val_loss: 0.0155\n",
      "Epoch 2/50\n",
      "8847/8847 [==============================] - 186s 21ms/step - loss: 0.0135 - val_loss: 0.0152\n",
      "Epoch 3/50\n",
      "8847/8847 [==============================] - 217s 25ms/step - loss: 0.0124 - val_loss: 0.0154\n"
     ]
    },
    {
     "data": {
      "text/plain": [
       "<keras.callbacks.History at 0x3b7607e80>"
      ]
     },
     "execution_count": 15,
     "metadata": {},
     "output_type": "execute_result"
    }
   ],
   "source": [
    "# implement early stopping: waiting for 1 epoch\n",
    "callbacks = [EarlyStopping(patience =  1)]\n",
    "\n",
    "# execute training (50 epochs)\n",
    "model.fit([train_user_ids, train_beer_ids], train_ratings, validation_data = ([val_user_ids, val_beer_ids], val_ratings), epochs = 50, batch_size = 128, callbacks = callbacks)"
   ]
  },
  {
   "cell_type": "markdown",
   "metadata": {},
   "source": [
    "### Prediction and Evaluation"
   ]
  },
  {
   "cell_type": "code",
   "execution_count": 16,
   "metadata": {},
   "outputs": [
    {
     "name": "stderr",
     "output_type": "stream",
     "text": [
      "2022-06-09 09:03:57.657170: I tensorflow/core/grappler/optimizers/custom_graph_optimizer_registry.cc:113] Plugin optimizer for device_type GPU is enabled.\n"
     ]
    }
   ],
   "source": [
    "# make predictions\n",
    "predictions = model.predict([val_user_ids, val_beer_ids])"
   ]
  },
  {
   "cell_type": "code",
   "execution_count": 17,
   "metadata": {},
   "outputs": [
    {
     "name": "stdout",
     "output_type": "stream",
     "text": [
      "MSE: 0.12393512069358081\n",
      "\n",
      "MAE: 0.09476706534904145\n",
      "\n",
      "RMSE: 0.3520442027552518\n",
      "\n"
     ]
    }
   ],
   "source": [
    "# evaluate the results (for scale 0-1)\n",
    "mse = mean_squared_error(predictions, val_ratings, squared = False)\n",
    "mae = mean_absolute_error(predictions, val_ratings)\n",
    "rmse = sqrt(mse)\n",
    "print('MSE: %s\\n' % mse)\n",
    "print('MAE: %s\\n' % mae)\n",
    "print('RMSE: %s\\n' % rmse)"
   ]
  },
  {
   "cell_type": "code",
   "execution_count": 18,
   "metadata": {},
   "outputs": [
    {
     "name": "stdout",
     "output_type": "stream",
     "text": [
      "MSE: 0.619675603132297\n",
      "\n",
      "MAE: 0.4738353265524416\n",
      "\n",
      "RMSE: 0.7871947682322952\n",
      "\n"
     ]
    }
   ],
   "source": [
    "# evaluate the results (for scale 1-5)\n",
    "mse = mean_squared_error(predictions * 5, val_ratings * 5, squared = False)\n",
    "mae = mean_absolute_error(predictions * 5, val_ratings * 5)\n",
    "rmse = sqrt(mse)\n",
    "print('MSE: %s\\n' % mse)\n",
    "print('MAE: %s\\n' % mae)\n",
    "print('RMSE: %s\\n' % rmse)"
   ]
  },
  {
   "cell_type": "markdown",
   "metadata": {},
   "source": [
    "### Define and Evaluate Baseline"
   ]
  },
  {
   "cell_type": "code",
   "execution_count": 19,
   "metadata": {},
   "outputs": [
    {
     "name": "stdout",
     "output_type": "stream",
     "text": [
      "Mean rating: 0.764637529002484\n",
      "\n"
     ]
    }
   ],
   "source": [
    "# define baseline: ratings have already been normalized\n",
    "mean_rating = cleaned_data['review'].mean()\n",
    "print('Mean rating: %s\\n' % mean_rating)\n"
   ]
  },
  {
   "cell_type": "code",
   "execution_count": 20,
   "metadata": {},
   "outputs": [
    {
     "name": "stdout",
     "output_type": "stream",
     "text": [
      "MSE: 0.1413255616535251\n",
      "\n",
      "MAE: 0.10798819656749262\n",
      "\n",
      "RMSE: 0.3759329217473845\n",
      "\n"
     ]
    }
   ],
   "source": [
    "# evaluate predictions using baseline\n",
    "predictions_baseline = np.full_like(val_ratings, mean_rating)\n",
    "\n",
    "# evaluate the results (for scale 0-1)\n",
    "mse = mean_squared_error(predictions_baseline, val_ratings, squared = False)\n",
    "mae = mean_absolute_error(predictions_baseline, val_ratings)\n",
    "rmse = sqrt(mse)\n",
    "print('MSE: %s\\n' % mse)\n",
    "print('MAE: %s\\n' % mae)\n",
    "print('RMSE: %s\\n' % rmse)"
   ]
  },
  {
   "cell_type": "code",
   "execution_count": null,
   "metadata": {},
   "outputs": [],
   "source": []
  }
 ],
 "metadata": {
  "interpreter": {
   "hash": "b561813dcbe41189dede01d659f23ac506200dbebf36748a4ffa66e6323134d7"
  },
  "kernelspec": {
   "display_name": "Python 3.8.12 ('Default_Env')",
   "language": "python",
   "name": "python3"
  },
  "language_info": {
   "codemirror_mode": {
    "name": "ipython",
    "version": 3
   },
   "file_extension": ".py",
   "mimetype": "text/x-python",
   "name": "python",
   "nbconvert_exporter": "python",
   "pygments_lexer": "ipython3",
   "version": "3.8.12"
  }
 },
 "nbformat": 4,
 "nbformat_minor": 4
}
